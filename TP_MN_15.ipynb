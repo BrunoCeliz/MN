{
 "cells": [
  {
   "cell_type": "markdown",
   "id": "42accda5-7504-4c98-9b94-cbc57d10a4ff",
   "metadata": {},
   "source": [
    "# Problema 15\n",
    "## 15)\n",
    "\n",
    "Resolvamos un sistema de $N$ ecuaciones inhomogéneas con $N$ incógnitas vía **Descomposición LU**: <br>\n",
    "<center> $A \\cdot x = c$ </center> <br>\n",
    "Para nuestro código, el sistema será tal que $A$ es una matriz $NxN$ y $c$ será $N\\text{x}1$. Ambas las rellenaremos con números aletorios, pidiendo $N=4$:\n",
    "\n",
    "### Inicio código"
   ]
  },
  {
   "cell_type": "code",
   "execution_count": 1,
   "id": "20fdfd0c-8cd8-457a-9b01-d57e6ad99266",
   "metadata": {},
   "outputs": [
    {
     "name": "stdin",
     "output_type": "stream",
     "text": [
      "stdin>  4\n"
     ]
    },
    {
     "data": {
      "text/plain": [
       "4"
      ]
     },
     "execution_count": 1,
     "metadata": {},
     "output_type": "execute_result"
    }
   ],
   "source": [
    "#(descomposición LU): Quiero resolver A*x = c\n",
    "\n",
    "n = parse(Int64, readline()) #Dim de la matriz: A = NxN"
   ]
  },
  {
   "cell_type": "code",
   "execution_count": 2,
   "id": "bbd62a8c-3884-418f-ac45-116bd0882527",
   "metadata": {},
   "outputs": [
    {
     "data": {
      "text/plain": [
       "4×4 Matrix{Float64}:\n",
       "  1.0     -3.0    13.625  7.5\n",
       " -4.0     -6.875  14.375  1.75\n",
       " -3.75     1.0     1.5    9.25\n",
       " 10.625  -10.875  10.0    7.5"
      ]
     },
     "metadata": {},
     "output_type": "display_data"
    },
    {
     "data": {
      "text/plain": [
       "4-element Vector{Float64}:\n",
       "   3.125\n",
       " -13.875\n",
       "   0.875\n",
       "  -1.75"
      ]
     },
     "metadata": {},
     "output_type": "display_data"
    }
   ],
   "source": [
    "A = rand(Int8,(n,n)) ./ 8 #Matriz a descomponer\n",
    "c = rand(Int8,n) ./ 8 #inhomogeneidad\n",
    "\n",
    "display(A)\n",
    "display(c)\n",
    "\n",
    "#Particularmente pedimos rellenar las matrices con randoms enteros pequeños, pero tranquilamente puede ser cualquier número"
   ]
  },
  {
   "cell_type": "code",
   "execution_count": 3,
   "id": "f5c08388-705f-4c76-b4b3-8bf72be3040c",
   "metadata": {},
   "outputs": [
    {
     "data": {
      "text/plain": [
       "LU (generic function with 4 methods)"
      ]
     },
     "execution_count": 3,
     "metadata": {},
     "output_type": "execute_result"
    }
   ],
   "source": [
    "function LU(A=A,c=c,n=n) \n",
    "    L = zeros(Float64, (n,n))\n",
    "    U = zeros(Float64, (n,n)) #creamos las matrices vacías L y U\n",
    "\n",
    "    for i in 1:n\n",
    "        L[i,1] = A[i,1] #escribimos la 1º columna de L\n",
    "    end\n",
    "\n",
    "    for j in 1:n\n",
    "        U[1,j] = A[1,j]/A[1,1] #escribimos la 1º fila de U\n",
    "    end\n",
    "\n",
    "    for k in 2:n #k-ésima columna/fila (exceptuando la 1º)\n",
    "        for i in k:n #rellenar la i-ésima fila\n",
    "            local S \n",
    "            S = 0\n",
    "            for j in 1:k-1 #loop de la sumatoria para columnas.  \n",
    "                S += L[i,j]*U[j,k]\n",
    "            end\n",
    "            L[i,k] = A[i,k] - S #encuentro el elemento L_ik\n",
    "        end\n",
    "\n",
    "        for i in k:n #rellenar la i-ésima columna. Recordar que el algortimo va como 1º col -> 1º fila -> 2º col -> 2º fila -> ...\n",
    "            local Z\n",
    "            Z = 0\n",
    "            for m in 1:k-1 #loop de la sumatoria para filas.\n",
    "                Z += L[k,m]*U[m,i]\n",
    "            end\n",
    "            U[k,i] = (A[k,i] - Z)/L[k,k] #encuentro el elemento U_ki\n",
    "        end\n",
    "    end\n",
    "    \n",
    "    #Acá comprobamos que L y U están bien, seguimos...\n",
    "    \n",
    "    #Resuelvo L * z = c:\n",
    "\n",
    "    z = zeros(n) #lista vacía de las n componentes de z\n",
    "    z[1] = c[1]/L[1,1] #1º lugar =/= 0\n",
    "\n",
    "    for i in range(2,n) #completar los demás espacios de z ;  # Re contra vale poner range() así en vez de trasladarlo a \"1:n\".\n",
    "        local S\n",
    "        S = 0\n",
    "        for k in range(1,i-1) #loop para la sumatoria\n",
    "            S += L[i,k]*z[k]\n",
    "\n",
    "        end\n",
    "\n",
    "        z[i] = (c[i] - S)/L[i,i]\n",
    "\n",
    "    end #Comprobando en otra calc, da exactamente el mismo z, which is good\n",
    "\n",
    "    #Resuelvo U * x = z:\n",
    "\n",
    "    x = zeros(n) #lista vacía de las n componentes de x\n",
    "    x[n] = z[n] #nº lugar =/= 0 (comparten el \"último lugar\" las soluciones z y x)\n",
    "\n",
    "    for i in range(1,n-1) #completar los demás espacios de x \"backwards\" (por eso los n-i)\n",
    "        local S\n",
    "        S = 0\n",
    "        for k in range(n-i,n)\n",
    "            S += U[n-i,k]*x[k] #¿?\n",
    "        end\n",
    "\n",
    "        x[n-i] = z[n-i] - S\n",
    "    end  \n",
    "    \n",
    "    return x\n",
    "end"
   ]
  },
  {
   "cell_type": "markdown",
   "id": "713c8189-255c-48b5-aeb7-61a52a44ef33",
   "metadata": {},
   "source": [
    "### Fin código\n",
    "\n",
    "Entonces, para $A$:"
   ]
  },
  {
   "cell_type": "code",
   "execution_count": 24,
   "id": "d29f1113-22b1-44db-8f8a-c0622b43717d",
   "metadata": {},
   "outputs": [
    {
     "data": {
      "text/plain": [
       "4×4 Matrix{Float64}:\n",
       "  1.0     -3.0    13.625  7.5\n",
       " -4.0     -6.875  14.375  1.75\n",
       " -3.75     1.0     1.5    9.25\n",
       " 10.625  -10.875  10.0    7.5"
      ]
     },
     "metadata": {},
     "output_type": "display_data"
    }
   ],
   "source": [
    "display(A)"
   ]
  },
  {
   "cell_type": "markdown",
   "id": "0c78848d-efd6-43ff-8af0-1b261a950ff1",
   "metadata": {},
   "source": [
    "y $c$ :"
   ]
  },
  {
   "cell_type": "code",
   "execution_count": 25,
   "id": "55f22ef8-e746-4509-a6f5-b4b72fd02dde",
   "metadata": {},
   "outputs": [
    {
     "data": {
      "text/plain": [
       "4-element Vector{Float64}:\n",
       "   3.125\n",
       " -13.875\n",
       "   0.875\n",
       "  -1.75"
      ]
     },
     "metadata": {},
     "output_type": "display_data"
    }
   ],
   "source": [
    "display(c)"
   ]
  },
  {
   "cell_type": "markdown",
   "id": "a751677c-4e40-44cc-9550-28c291a2fd3b",
   "metadata": {},
   "source": [
    "Las soluciones $x_i$ al sistema de ecuaciones $A \\cdot x = c$ son:"
   ]
  },
  {
   "cell_type": "code",
   "execution_count": 26,
   "id": "8896f520-066d-44c5-b52b-717e2175841d",
   "metadata": {},
   "outputs": [
    {
     "name": "stdout",
     "output_type": "stream",
     "text": [
      "1.3890510667742504\n",
      "2.1337341457044885\n",
      "0.39764417111153283\n",
      "0.3625666051926107\n"
     ]
    }
   ],
   "source": [
    "using DelimitedFiles;\n",
    "\n",
    "writedlm(stdout,LU())"
   ]
  },
  {
   "cell_type": "markdown",
   "id": "f39a84d4-5b23-4315-ac59-d37fa1f4a549",
   "metadata": {},
   "source": [
    "Verificando con una calculadora de matrices, vemos que efectivamente el resultado es el correcto."
   ]
  }
 ],
 "metadata": {
  "kernelspec": {
   "display_name": "Julia 1.7.1",
   "language": "julia",
   "name": "julia-1.7"
  },
  "language_info": {
   "file_extension": ".jl",
   "mimetype": "application/julia",
   "name": "julia",
   "version": "1.7.1"
  }
 },
 "nbformat": 4,
 "nbformat_minor": 5
}
