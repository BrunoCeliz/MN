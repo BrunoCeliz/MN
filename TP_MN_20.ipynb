{
 "cells": [
  {
   "cell_type": "markdown",
   "id": "64459d42-6c86-4bf5-a9d8-1d6349fdbf76",
   "metadata": {},
   "source": [
    "## 20)\n",
    "\n",
    "Para llegar al sistema de ecuaciones con forma *tridiagonal* que corresponde a un **Spline Cúbico Natural** pedimos, como indica el nombre, describir una función $p(x)$ entre 2 puntos conocidos $(x_i,f(x_i))$ que sea un polinomio de orden 3: <br>\n",
    "<center> $p(x) = a_i(x-x_i)^3 + b_i(x-x_i)^2 + c_i(x-x_i) + d_i$ </center> <br>\n",
    "Sabemos que $p(x_i) = f(x_i) = d_i$ y lo definiremos como $p(x_i)=p_i$. Luego, reemplazamos $x=x_{i+1}$ en $p(x)$ para buscar $p(x_{i+1})$: <br>\n",
    "<center> $p(x_{i+1}) = a_ih_i^3+b_ih_i^2+c_ih_i+p_i = p_{i+1}$ </center> <br>\n",
    "Busquemos las derivadas 1º y 2º: <br>\n",
    "<center> $p'(x)=3a_i(x-x_i)^2+2b_i(x-x_i)+c_i$ </center> <br>\n",
    "<center> $p''(x)=6a_i(x-x_i)+2b_i$ </center> <br>\n",
    "Y reemplazando $x$ para obtener $p''(x_i) = p''_i$ y $p''(x_{i+1}) = p''_{i+1}$ llegamos a que: <br>\n",
    "<center> $a_i = \\frac{p''_{i+1}-p''_i}{6h_i}$ y $b_i = \\frac{p''_i}{2}$ </center> <br>\n",
    "Reemplazamos nuevamente en $p''(x_i)$ para obtener: <br>\n",
    "<center> $a_i = \\frac{p_{i+1}-p_i}{h_i} - \\frac{h_ip''_{i+1}+2h_ip''_i}{6}$ </center> <br>\n",
    "Y podemos reescribir nuestro $p(x)$ original ya habiendo encontrado $a_i,b_i$ y $c_i$... <br>\n",
    "Más aún, como queremos polinomios suaves en los puntos interpolatorios, pedimos continuidad de las derivadas. Esto es, sean $p_{i-1,i}(x)$ y $p_{i,i+1}(x)$ dos polinomios contiguos (es decir, que unen $x_{i-1},x_i$ y $x_{i+1}$), pedimos <br>\n",
    "<center> $p'_{i-1,i}(x_i) = p'_{i,i+1}(x_i)$ </center> <br>\n",
    "De esta igualdad obtenemos <br>\n",
    "<center> $h_{i-1}p''_{i-1}+2(h_i+h_{i-1})p''_i+h_{i}p''_{i+1} = 6(\\frac{p_{i+1} - p_i}{h_i} - \\frac{p_{i} - p_{i-1}}{h_{i-1}})$ </center> <br>\n",
    "Que se puede escribir como un sistema de $n-2$ ecuaciones tridiagonal para las $n$ incógnitas $p''_{i-1},p''_i,p''_{i+1}$. <br>\n",
    "O sea, nos falta información, particularmente 2 ecuaciones. Esto lo podemos obtener de pedir condiciones en los bordes (en los extremos del dominio a interpolar). Como estamos pidiendo un Spline *Natural*, exigimos <br>\n",
    "<center> $p''_{1} = p''_n = 0$ </center> <br>\n",
    "Y podemos resolver el ssitema de ecuaciones, con ahora $n-2$ ecuaciones para $n-2$ incógnitas. <br>"
   ]
  }
 ],
 "metadata": {
  "kernelspec": {
   "display_name": "Python 3",
   "language": "python",
   "name": "python3"
  },
  "language_info": {
   "codemirror_mode": {
    "name": "ipython",
    "version": 3
   },
   "file_extension": ".py",
   "mimetype": "text/x-python",
   "name": "python",
   "nbconvert_exporter": "python",
   "pygments_lexer": "ipython3",
   "version": "3.8.8"
  }
 },
 "nbformat": 4,
 "nbformat_minor": 5
}
